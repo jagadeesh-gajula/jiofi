{
 "cells": [
  {
   "cell_type": "code",
   "execution_count": null,
   "metadata": {},
   "outputs": [],
   "source": [
    "import urllib.request\n",
    "from bs4 import BeautifulSoup\n",
    "import PySimpleGUI as sg\n",
    "import re\n",
    "import threading\n",
    "import time\n",
    "\n",
    "def scan():\n",
    "    try:\n",
    "        page = urllib.request.urlopen('http://jiofi.local.html')\n",
    "        data=page.read()\n",
    "        soup=BeautifulSoup(data,'html.parser')\n",
    "        jiofi=soup.find_all('input')\n",
    "        return jiofi\n",
    "    except:\n",
    "        time.sleep(3)\n",
    "        scan()\n",
    "\n",
    "def update():\n",
    "    status={}\n",
    "    for i in scan():\n",
    "        try:\n",
    "            ids = re.findall(r'[\"][\\w\\s]+[\"]',str(i))\n",
    "            val_begin = re.search(r'value=',str(i)).end()\n",
    "            value = str(i)[val_begin+1:-3]\n",
    "            status[ids[0][1:-1]]=value\n",
    "        except AttributeError:\n",
    "            pass\n",
    "    return status\n",
    "\n",
    "def alert():\n",
    "    status = update()\n",
    "    level = status['batterylevel']\n",
    "    if int(level[:-1]) < 30 and status['batterystatus']=='Discharging':\n",
    "        sg.Popup(\"JioFi battery level under 30%\")\n",
    "    if int(level[:-1]) > 95 and status['batterystatus']=='Discharging':\n",
    "        sg.Popup(\"Jiofi battery level exceded 95%\")\n",
    "        \n",
    "def warn():\n",
    "    while True:\n",
    "        alert()\n",
    "        time.sleep(10)\n",
    "\n",
    "#t = threading.Thread(target=warn,args=())\n",
    "#t.start()\n",
    "\n",
    "warn()"
   ]
  }
 ],
 "metadata": {
  "anaconda-cloud": {},
  "kernelspec": {
   "display_name": "Python 3",
   "language": "python",
   "name": "python3"
  },
  "language_info": {
   "codemirror_mode": {
    "name": "ipython",
    "version": 3
   },
   "file_extension": ".py",
   "mimetype": "text/x-python",
   "name": "python",
   "nbconvert_exporter": "python",
   "pygments_lexer": "ipython3",
   "version": "3.7.4"
  }
 },
 "nbformat": 4,
 "nbformat_minor": 1
}
