{
 "cells": [
  {
   "cell_type": "code",
   "execution_count": 37,
   "metadata": {
    "collapsed": false
   },
   "outputs": [],
   "source": [
    "import urllib.request\n",
    "import requests \n",
    "from bs4 import BeautifulSoup\n",
    "import winsound\n",
    "\n",
    "page = urllib.request.urlopen('http://jiofi.local.html')\n",
    "data=page.read()\n",
    "soup=BeautifulSoup(data,'html.parser')\n",
    "jiofi=soup.find_all('input')\n",
    "jiofi=str(jiofi[0])\n",
    "\n",
    "def status():\n",
    "    for k in range(11):\n",
    "        s=jiofi.split('\\n')[k]\n",
    "        s=s.split()\n",
    "        tag=s[1]\n",
    "        value=s[-1]\n",
    "        print(tag[s[1].find('=')+2:-1],\"--->\",value[s[-1].find('=')+2:-2])\n",
    "        return\n",
    "\n",
    "def battery():\n",
    "    s=jiofi.split('\\n')[1]\n",
    "    s=s.split()\n",
    "    tag=s[1]\n",
    "    value=s[-1]\n",
    "    percent=value[s[-1].find('=')+2:-2]\n",
    "    remaining=int(percent[0:-1])\n",
    "    print(\"left \",percent)  \n",
    "    return\n",
    "\n",
    "def warn():\n",
    "    s=jiofi.split('\\n')[1]\n",
    "    s=s.split()\n",
    "    tag=s[1]\n",
    "    value=s[-1]\n",
    "    percent=value[s[-1].find('=')+2:-2]\n",
    "    remaining=int(percent[0:-1])\n",
    "    if remaining < 50:\n",
    "        winsound.Beep(300,1000)\n",
    "    return\n",
    "\n",
    "        \n",
    "def help():\n",
    "    print(\"use status function without any args to know status\")\n",
    "    print(\"use battery function without any args to know left percentage\")\n",
    "    print(\"use alert function without any args to get alert is battery goes below 30%\")\n",
    "    \n",
    "def alert():\n",
    "    while 1:\n",
    "        warn()"
   ]
  },
  {
   "cell_type": "code",
   "execution_count": 38,
   "metadata": {
    "collapsed": false
   },
   "outputs": [
    {
     "ename": "KeyboardInterrupt",
     "evalue": "",
     "output_type": "error",
     "traceback": [
      "\u001b[0;31m---------------------------------------------------------------------------\u001b[0m",
      "\u001b[0;31mKeyboardInterrupt\u001b[0m                         Traceback (most recent call last)",
      "\u001b[0;32m<ipython-input-38-4b3332d8aa9a>\u001b[0m in \u001b[0;36m<module>\u001b[0;34m()\u001b[0m\n\u001b[0;32m----> 1\u001b[0;31m \u001b[0malert\u001b[0m\u001b[1;33m(\u001b[0m\u001b[1;33m)\u001b[0m\u001b[1;33m\u001b[0m\u001b[0m\n\u001b[0m",
      "\u001b[0;32m<ipython-input-37-39a09e666713>\u001b[0m in \u001b[0;36malert\u001b[0;34m()\u001b[0m\n\u001b[1;32m     48\u001b[0m \u001b[1;32mdef\u001b[0m \u001b[0malert\u001b[0m\u001b[1;33m(\u001b[0m\u001b[1;33m)\u001b[0m\u001b[1;33m:\u001b[0m\u001b[1;33m\u001b[0m\u001b[0m\n\u001b[1;32m     49\u001b[0m     \u001b[1;32mwhile\u001b[0m \u001b[1;36m1\u001b[0m\u001b[1;33m:\u001b[0m\u001b[1;33m\u001b[0m\u001b[0m\n\u001b[0;32m---> 50\u001b[0;31m         \u001b[0mwarn\u001b[0m\u001b[1;33m(\u001b[0m\u001b[1;33m)\u001b[0m\u001b[1;33m\u001b[0m\u001b[0m\n\u001b[0m",
      "\u001b[0;32m<ipython-input-37-39a09e666713>\u001b[0m in \u001b[0;36mwarn\u001b[0;34m()\u001b[0m\n\u001b[1;32m     37\u001b[0m     \u001b[0mremaining\u001b[0m\u001b[1;33m=\u001b[0m\u001b[0mint\u001b[0m\u001b[1;33m(\u001b[0m\u001b[0mpercent\u001b[0m\u001b[1;33m[\u001b[0m\u001b[1;36m0\u001b[0m\u001b[1;33m:\u001b[0m\u001b[1;33m-\u001b[0m\u001b[1;36m1\u001b[0m\u001b[1;33m]\u001b[0m\u001b[1;33m)\u001b[0m\u001b[1;33m\u001b[0m\u001b[0m\n\u001b[1;32m     38\u001b[0m     \u001b[1;32mif\u001b[0m \u001b[0mremaining\u001b[0m \u001b[1;33m<\u001b[0m \u001b[1;36m50\u001b[0m\u001b[1;33m:\u001b[0m\u001b[1;33m\u001b[0m\u001b[0m\n\u001b[0;32m---> 39\u001b[0;31m         \u001b[0mwinsound\u001b[0m\u001b[1;33m.\u001b[0m\u001b[0mBeep\u001b[0m\u001b[1;33m(\u001b[0m\u001b[1;36m300\u001b[0m\u001b[1;33m,\u001b[0m\u001b[1;36m1000\u001b[0m\u001b[1;33m)\u001b[0m\u001b[1;33m\u001b[0m\u001b[0m\n\u001b[0m\u001b[1;32m     40\u001b[0m     \u001b[1;32mreturn\u001b[0m\u001b[1;33m\u001b[0m\u001b[0m\n\u001b[1;32m     41\u001b[0m \u001b[1;33m\u001b[0m\u001b[0m\n",
      "\u001b[0;31mKeyboardInterrupt\u001b[0m: "
     ]
    }
   ],
   "source": []
  }
 ],
 "metadata": {
  "anaconda-cloud": {},
  "kernelspec": {
   "display_name": "Python [conda root]",
   "language": "python",
   "name": "conda-root-py"
  },
  "language_info": {
   "codemirror_mode": {
    "name": "ipython",
    "version": 3
   },
   "file_extension": ".py",
   "mimetype": "text/x-python",
   "name": "python",
   "nbconvert_exporter": "python",
   "pygments_lexer": "ipython3",
   "version": "3.5.2"
  }
 },
 "nbformat": 4,
 "nbformat_minor": 1
}
