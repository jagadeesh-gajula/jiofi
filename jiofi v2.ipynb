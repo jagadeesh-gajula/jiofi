{
 "cells": [
  {
   "cell_type": "code",
   "execution_count": 55,
   "metadata": {
    "scrolled": false
   },
   "outputs": [
    {
     "name": "stdout",
     "output_type": "stream",
     "text": [
      "\"batterystatus\"  --------------- \"Discharging\"\n",
      "\"batterylevel\"  --------------- \"48%\"\n",
      "\"signalstrength\"  --------------- \"Normal\"\n",
      "\"ulCurrentDataRate\"  --------------- \"43718 bps\"\n",
      "\"dlCurrentDataRate\"  --------------- \"478372 bps\"\n",
      "\"ConnectionTime\"  --------------- \"00:03:57:53\"\n",
      "\"imsi\"  --------------- \"405854091550257\"\n",
      "\"devicemodel\"  --------------- \"JMR540\"\n",
      "\"connectedStatus\"  --------------- \"Attached\"\n",
      "\"physicalCellId\"  --------------- \"177\"\n",
      "\"noOfClient\"  --------------- \"1\"\n",
      "\"eutrancellid\"  --------------- \"40585400540471310\"\n",
      "\"RequestVerifyToken\" name --------------- \"842509824\"\n",
      "\"act\" maxlength --------------- \"text\"\n",
      "\"pwd\" maxlength --------------- \"password\"\n",
      "\"check_login_field()\"  --------------- \"Login\"\n"
     ]
    }
   ],
   "source": [
    "import urllib.request\n",
    "import requests \n",
    "from bs4 import BeautifulSoup\n",
    "import winsound\n",
    "import ctypes \n",
    "import PySimpleGUI as sg\n",
    "\n",
    "def status():\n",
    "    page = urllib.request.urlopen('http://jiofi.local.html/')\n",
    "    data=page.read()\n",
    "    soup=BeautifulSoup(data,'html.parser')\n",
    "    jiofi=soup.find_all('input')\n",
    "    for i in jiofi:\n",
    "        k=str(i).split(\"=\")\n",
    "        print(k[1].replace(\"type\",\"\"),\"---------------\",k[-1].replace('/>',\"\"))\n",
    "        \n",
    "status()\n",
    "\n"
   ]
  }
 ],
 "metadata": {
  "kernelspec": {
   "display_name": "Python 3",
   "language": "python",
   "name": "python3"
  },
  "language_info": {
   "codemirror_mode": {
    "name": "ipython",
    "version": 3
   },
   "file_extension": ".py",
   "mimetype": "text/x-python",
   "name": "python",
   "nbconvert_exporter": "python",
   "pygments_lexer": "ipython3",
   "version": "3.7.4"
  }
 },
 "nbformat": 4,
 "nbformat_minor": 2
}
